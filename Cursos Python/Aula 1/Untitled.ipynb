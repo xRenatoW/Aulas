{
 "cells": [
  {
   "cell_type": "code",
   "execution_count": 2,
   "id": "a110b49d",
   "metadata": {},
   "outputs": [
    {
     "name": "stdout",
     "output_type": "stream",
     "text": [
      "Orçamento gerado com sucesso\n",
      "Semana do Python na pratica\n",
      "Eu amo programar in Python\n"
     ]
    }
   ],
   "source": [
    "\n",
    "print('Orçamento gerado com sucesso')\n",
    "print('Semana do Python na pratica')\n",
    "print('Eu amo programar in Python')\n",
    "\n"
   ]
  },
  {
   "cell_type": "markdown",
   "id": "06623d0f",
   "metadata": {},
   "source": [
    "# Entrada de dados de usuario"
   ]
  },
  {
   "cell_type": "code",
   "execution_count": 13,
   "id": "9bbdba1f",
   "metadata": {},
   "outputs": [
    {
     "name": "stdout",
     "output_type": "stream",
     "text": [
      "Digite a descrição do projeto: Troca piso\n",
      "Digite a quantidade de horas estimada: 30 horas\n",
      "Digite o valor da hora trabalhada: 20\n",
      "Digite o prazo: 2 dias \n"
     ]
    },
    {
     "data": {
      "text/plain": [
       "'2 dias '"
      ]
     },
     "execution_count": 13,
     "metadata": {},
     "output_type": "execute_result"
    }
   ],
   "source": [
    "input('Digite a descrição do projeto: ')\n",
    "input('Digite a quantidade de horas estimada: ')\n",
    "input('Digite o valor da hora trabalhada: ')\n",
    "input('Digite o prazo: ')\n"
   ]
  },
  {
   "cell_type": "markdown",
   "id": "57fbd781",
   "metadata": {},
   "source": [
    "# Guardando variaveis"
   ]
  },
  {
   "cell_type": "code",
   "execution_count": 11,
   "id": "403df66a",
   "metadata": {},
   "outputs": [
    {
     "name": "stdout",
     "output_type": "stream",
     "text": [
      "Digite a descrição do projeto: Mecanica\n",
      "Digite a quantidade de horas estimadas: 20\n",
      "Digite o valor da hora: 15\n",
      "Digite o prazo: 2\n",
      "2\n"
     ]
    }
   ],
   "source": [
    "projeto = input(\"Digite a descrição do projeto: \")\n",
    "horas_estimada = input(\"Digite a quantidade de horas estimadas: \")\n",
    "valor_hora = input(\"Digite o valor da hora: \")\n",
    "prazo = input(\"Digite o prazo: \")\n",
    "print (prazo)"
   ]
  },
  {
   "cell_type": "markdown",
   "id": "ab0045b2",
   "metadata": {},
   "source": [
    "# Calculos"
   ]
  },
  {
   "cell_type": "code",
   "execution_count": 11,
   "id": "8aafcf12",
   "metadata": {},
   "outputs": [
    {
     "data": {
      "text/plain": [
       "17"
      ]
     },
     "execution_count": 11,
     "metadata": {},
     "output_type": "execute_result"
    }
   ],
   "source": [
    "15+2"
   ]
  },
  {
   "cell_type": "code",
   "execution_count": 8,
   "id": "d0d92685",
   "metadata": {},
   "outputs": [],
   "source": [
    "valor_total = int(horas_estimada) * int(valor_hora)"
   ]
  },
  {
   "cell_type": "markdown",
   "id": "84d28728",
   "metadata": {},
   "source": [
    "# Tipos de dados - numeros - texto"
   ]
  },
  {
   "cell_type": "code",
   "execution_count": 12,
   "id": "dc59e9cd",
   "metadata": {},
   "outputs": [
    {
     "data": {
      "text/plain": [
       "str"
      ]
     },
     "execution_count": 12,
     "metadata": {},
     "output_type": "execute_result"
    }
   ],
   "source": [
    "type(\"10\")"
   ]
  },
  {
   "cell_type": "code",
   "execution_count": 13,
   "id": "6da1999d",
   "metadata": {},
   "outputs": [
    {
     "data": {
      "text/plain": [
       "int"
      ]
     },
     "execution_count": 13,
     "metadata": {},
     "output_type": "execute_result"
    }
   ],
   "source": [
    "type(10)"
   ]
  },
  {
   "cell_type": "markdown",
   "id": "b6bb518c",
   "metadata": {},
   "source": [
    "# Gerando o PDF do Orçamento"
   ]
  },
  {
   "cell_type": "code",
   "execution_count": 33,
   "id": "c9d94e13",
   "metadata": {},
   "outputs": [
    {
     "name": "stdout",
     "output_type": "stream",
     "text": [
      "Requirement already satisfied: fpdf in c:\\users\\renat\\anaconda3\\lib\\site-packages (1.7.2)\n"
     ]
    }
   ],
   "source": [
    "!pip install fpdf"
   ]
  },
  {
   "cell_type": "code",
   "execution_count": 2,
   "id": "b4d07e1c",
   "metadata": {},
   "outputs": [],
   "source": [
    "from fpdf import FPDF"
   ]
  },
  {
   "cell_type": "code",
   "execution_count": 15,
   "id": "695889d5",
   "metadata": {},
   "outputs": [
    {
     "name": "stdout",
     "output_type": "stream",
     "text": [
      "Orçamento gerado com sucesso\n"
     ]
    }
   ],
   "source": [
    "pdf = FPDF()\n",
    "pdf.add_page()\n",
    "pdf.set_font(\"Arial\")\n",
    "\n",
    "pdf.image(\"template.png\", x=0, y=0) \n",
    "pdf.text(115, 145, projeto)\n",
    "pdf.text(115, 160, horas_estimada)\n",
    "pdf.text(115, 175, valor_hora)\n",
    "pdf.text(115, 190, prazo)\n",
    "pdf.text(115, 205, str(valor_total))\n",
    "\n",
    "\n",
    "\n",
    "pdf.output(\"Orçamento Python.pdf\")\n",
    "print(\"Orçamento gerado com sucesso\")"
   ]
  },
  {
   "cell_type": "markdown",
   "id": "cc667520",
   "metadata": {},
   "source": [
    "# Gerador de Boleto\n"
   ]
  },
  {
   "cell_type": "code",
   "execution_count": 19,
   "id": "bdeb4096",
   "metadata": {},
   "outputs": [
    {
     "name": "stdout",
     "output_type": "stream",
     "text": [
      "Digite o nome do cliente: Enpowerdata\n",
      "Digite o valor total da compra:30000\n",
      "Digite o total de parcelas6\n"
     ]
    }
   ],
   "source": [
    "cliente = input(\"Digite o nome do cliente: \")\n",
    "valor_total = input(\"Digite o valor total da compra:\")\n",
    "parcelas = input(\"Digite o total de parcelas\")"
   ]
  },
  {
   "cell_type": "code",
   "execution_count": null,
   "id": "6b437581",
   "metadata": {},
   "outputs": [],
   "source": []
  }
 ],
 "metadata": {
  "kernelspec": {
   "display_name": "Python 3 (ipykernel)",
   "language": "python",
   "name": "python3"
  },
  "language_info": {
   "codemirror_mode": {
    "name": "ipython",
    "version": 3
   },
   "file_extension": ".py",
   "mimetype": "text/x-python",
   "name": "python",
   "nbconvert_exporter": "python",
   "pygments_lexer": "ipython3",
   "version": "3.9.13"
  }
 },
 "nbformat": 4,
 "nbformat_minor": 5
}
