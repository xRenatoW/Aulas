{
 "cells": [
  {
   "cell_type": "markdown",
   "id": "013c93b2",
   "metadata": {},
   "source": [
    "# Gerador de Orçamentos"
   ]
  },
  {
   "cell_type": "code",
   "execution_count": 1,
   "id": "ea9bfb6e",
   "metadata": {},
   "outputs": [
    {
     "name": "stdout",
     "output_type": "stream",
     "text": [
      "Digite a descrição do projeto: Desenvolvimento Python\n",
      "Digite a quantidade de horas estimadas: 15\n",
      "Digite o valor da hora: 200\n",
      "Digite o prazo: 1 Mes\n",
      "1 Mes\n"
     ]
    }
   ],
   "source": [
    "projeto = input(\"Digite a descrição do projeto: \")\n",
    "horas_estimada = input(\"Digite a quantidade de horas estimadas: \")\n",
    "valor_hora = input(\"Digite o valor da hora: \")\n",
    "prazo = input(\"Digite o prazo: \")\n",
    "print (prazo)"
   ]
  },
  {
   "cell_type": "code",
   "execution_count": 13,
   "id": "56d5bb83",
   "metadata": {},
   "outputs": [
    {
     "name": "stdout",
     "output_type": "stream",
     "text": [
      "Orçamento gerado com sucesso\n"
     ]
    }
   ],
   "source": [
    "from fpdf import FPDF\n",
    "\n",
    "valor_total_estimado = int(horas_estimada) * int(valor_hora)\n",
    "\n",
    "pdf = FPDF()\n",
    "pdf.add_page()\n",
    "pdf.set_font(\"Helvetica\")\n",
    "\n",
    "pdf.image(\"template.png\", x=0, y=0)\n",
    "\n",
    "pdf.text(115, 145, projeto)\n",
    "pdf.text(115, 160, horas_estimada)\n",
    "pdf.text(115, 175, valor_hora)\n",
    "pdf.text(115, 190, prazo)\n",
    "pdf.text(115, 205, str(valor_total_estimado))\n",
    "\n",
    "\n",
    "pdf.output(\"pdf_projeto.pdf\")\n",
    "print(\"Orçamento gerado com sucesso\")\n",
    "\n",
    "\n"
   ]
  },
  {
   "cell_type": "code",
   "execution_count": 7,
   "id": "66705a25",
   "metadata": {},
   "outputs": [
    {
     "name": "stdout",
     "output_type": "stream",
     "text": [
      "Requirement already satisfied: fpdf in c:\\users\\renat\\anaconda3\\lib\\site-packages (1.7.2)\n"
     ]
    }
   ],
   "source": [
    "!pip install fpdf"
   ]
  }
 ],
 "metadata": {
  "kernelspec": {
   "display_name": "Python 3 (ipykernel)",
   "language": "python",
   "name": "python3"
  },
  "language_info": {
   "codemirror_mode": {
    "name": "ipython",
    "version": 3
   },
   "file_extension": ".py",
   "mimetype": "text/x-python",
   "name": "python",
   "nbconvert_exporter": "python",
   "pygments_lexer": "ipython3",
   "version": "3.9.13"
  }
 },
 "nbformat": 4,
 "nbformat_minor": 5
}
